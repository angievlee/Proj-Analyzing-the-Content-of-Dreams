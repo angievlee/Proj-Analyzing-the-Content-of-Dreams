{
 "cells": [
  {
   "cell_type": "markdown",
   "metadata": {},
   "source": [
    "## Project 3: Webscraping subreddit r/Dreams "
   ]
  },
  {
   "cell_type": "markdown",
   "metadata": {
    "toc": true
   },
   "source": [
    "<h1>Table of Contents<span class=\"tocSkip\"></span></h1>\n",
    "<div class=\"toc\"><ul class=\"toc-item\"><li><span><a href=\"#Project-3:-Webscraping-subreddit-r/Dreams\" data-toc-modified-id=\"Project-3:-Webscraping-subreddit-r/Dreams-1\">Project 3: Webscraping subreddit r/Dreams</a></span><ul class=\"toc-item\"><li><ul class=\"toc-item\"><li><span><a href=\"#Import-Libraries\" data-toc-modified-id=\"Import-Libraries-1.0.1\">Import Libraries</a></span></li></ul></li><li><span><a href=\"#Step-1:-Create-Reddit-instance\" data-toc-modified-id=\"Step-1:-Create-Reddit-instance-1.1\">Step 1: Create Reddit instance</a></span></li><li><span><a href=\"#Step-2:-Scrape-the-URL\" data-toc-modified-id=\"Step-2:-Scrape-the-URL-1.2\">Step 2: Scrape the URL</a></span></li><li><span><a href=\"#Step-3:-Create-a-pandas-DataFrame-from-list-of-subreddit-posts¶\" data-toc-modified-id=\"Step-3:-Create-a-pandas-DataFrame-from-list-of-subreddit-posts¶-1.3\">Step 3: Create a pandas DataFrame from list of subreddit posts¶</a></span></li><li><span><a href=\"#Step-4:-Export-data-to-csv\" data-toc-modified-id=\"Step-4:-Export-data-to-csv-1.4\">Step 4: Export data to csv</a></span></li></ul></li></ul></div>"
   ]
  },
  {
   "cell_type": "markdown",
   "metadata": {},
   "source": [
    "Intro to Notebook 1\n",
    "\n",
    "This notebook (Notebook 1) will display a step-by-step process for scraping subreddit r/Dreams. The scrape will be for 1000 posts that contain text which will be analyzed and later applied to classification models in the notebooks to follow."
   ]
  },
  {
   "cell_type": "markdown",
   "metadata": {},
   "source": [
    "#### Import Libraries"
   ]
  },
  {
   "cell_type": "code",
   "execution_count": 3,
   "metadata": {},
   "outputs": [],
   "source": [
    "# Allows HTTP/1.1 (URL) requests to so users can add content from sites\n",
    "import requests\n",
    "# For data manipulation\n",
    "import pandas as pd\n",
    "# Ability to save file to be exported and use\n",
    "import csv\n",
    "# Easy to use for scraping Reddit data\n",
    "import praw"
   ]
  },
  {
   "cell_type": "markdown",
   "metadata": {},
   "source": [
    "### Step 1: Create Reddit instance\n",
    "\n",
    "Before any data can be scraped, users need to be authenticated. In order to do this, a Reddit instance must be created.\n",
    "\n",
    "1. Create Reddit app here: https://www.reddit.com/prefs/apps\n",
    "2. After pressing \"create app\", the authentification information needed to create the praw. Reddit instance will be provided."
   ]
  },
  {
   "cell_type": "code",
   "execution_count": 4,
   "metadata": {},
   "outputs": [],
   "source": [
    "# Input values client_id, client_secret, user_agent which can be found after \"create app\" action\n",
    "reddit = praw.Reddit(client_id='inQ3U2b00SevdQ', client_secret='mWYaNvAOx-0ilXOfMV82nHZ7R3U',user_agent='reddit scrape')"
   ]
  },
  {
   "cell_type": "markdown",
   "metadata": {},
   "source": [
    "### Step 2: Scrape the URL"
   ]
  },
  {
   "cell_type": "code",
   "execution_count": 6,
   "metadata": {},
   "outputs": [
    {
     "name": "stdout",
     "output_type": "stream",
     "text": [
      "                                                 title  score      id  \\\n",
      "0                  Just dreamt of the end of the world    135  dhnta6   \n",
      "1    I was accused of blugeoning Beyonce to death i...      9  dhqqyx   \n",
      "2                           Morgan Freeman food advice      8  dhr09c   \n",
      "3                              Violating the nightmare      3  dhucwz   \n",
      "4    Dreamt was holding my rapist and crying and ap...      2  dhuokx   \n",
      "..                                                 ...    ...     ...   \n",
      "992                                                  🏞      1  dbxj1t   \n",
      "993  Saw this fella a while ago when I had a sleep ...    125  dbe0bc   \n",
      "994                    Dreams about a Lost Friendship.      1  dbx8xo   \n",
      "995  Tooth (just one) falling out, scared when woke up      1  dbx6g4   \n",
      "996               Four ways, murder, and demons oh my!      3  dbs1q3   \n",
      "\n",
      "    subreddit                                                url  \\\n",
      "0      Dreams  https://www.reddit.com/r/Dreams/comments/dhnta...   \n",
      "1      Dreams  https://www.reddit.com/r/Dreams/comments/dhqqy...   \n",
      "2      Dreams  https://www.reddit.com/r/Dreams/comments/dhr09...   \n",
      "3      Dreams  https://www.reddit.com/r/Dreams/comments/dhucw...   \n",
      "4      Dreams  https://www.reddit.com/r/Dreams/comments/dhuok...   \n",
      "..        ...                                                ...   \n",
      "992    Dreams                https://i.redd.it/v3xatojx1zp31.jpg   \n",
      "993    Dreams                https://i.redd.it/u7untosobrp31.jpg   \n",
      "994    Dreams  https://www.reddit.com/r/Dreams/comments/dbx8x...   \n",
      "995    Dreams  https://www.reddit.com/r/Dreams/comments/dbx6g...   \n",
      "996    Dreams  https://www.reddit.com/r/Dreams/comments/dbs1q...   \n",
      "\n",
      "     num_comments                                               body  \\\n",
      "0              18  I just woke from an insanely realistic dream a...   \n",
      "1               1  I was in my local Kroger getting groceries, an...   \n",
      "2               0  Part of my dream this morning had Morgan Freem...   \n",
      "3               0  Well uh.. where to begin...\\n\\nI found this su...   \n",
      "4               0  I don't understand.. I was finally getting bet...   \n",
      "..            ...                                                ...   \n",
      "992             0                                                      \n",
      "993            11                                                      \n",
      "994             0  A little over a year ago, my relationship with...   \n",
      "995             4  Hi everyone... This dream I had last night and...   \n",
      "996             0  So there was this girl named Angela and this g...   \n",
      "\n",
      "          created  \n",
      "0    1.571072e+09  \n",
      "1    1.571089e+09  \n",
      "2    1.571091e+09  \n",
      "3    1.571105e+09  \n",
      "4    1.571106e+09  \n",
      "..            ...  \n",
      "992  1.569984e+09  \n",
      "993  1.569889e+09  \n",
      "994  1.569982e+09  \n",
      "995  1.569982e+09  \n",
      "996  1.569958e+09  \n",
      "\n",
      "[997 rows x 8 columns]\n"
     ]
    }
   ],
   "source": [
    "# Start with an empty list\n",
    "posts = [] \n",
    "# Scrape subreddit r/Dreams\n",
    "dreams_subreddit = reddit.subreddit('Dreams')\n",
    "\n",
    "# Grab 'hot' 1000 posts from subreddit r/Dreams\n",
    "for post in dreams_subreddit.hot(limit=1000): \n",
    "    posts.append([post.title, post.score, post.id, post.subreddit, post.url, post.num_comments, post.selftext, post.created])\n",
    "# Input the names that will scraped and eventually become columns in dataframe\n",
    "posts = pd.DataFrame(posts,columns=['title', 'score', 'id', 'subreddit', 'url', 'num_comments', 'body', 'created'])\n",
    "# Print 'posts' to confirm data successfully scraped\n",
    "print(posts)"
   ]
  },
  {
   "cell_type": "markdown",
   "metadata": {},
   "source": [
    "Observations: 997 rows is close to 1000 so 997 number will suffice in what is needed for analysis. "
   ]
  },
  {
   "cell_type": "markdown",
   "metadata": {},
   "source": [
    "### Step 3: Create a pandas DataFrame from list of subreddit posts¶"
   ]
  },
  {
   "cell_type": "code",
   "execution_count": 7,
   "metadata": {},
   "outputs": [
    {
     "data": {
      "text/html": [
       "<div>\n",
       "<style scoped>\n",
       "    .dataframe tbody tr th:only-of-type {\n",
       "        vertical-align: middle;\n",
       "    }\n",
       "\n",
       "    .dataframe tbody tr th {\n",
       "        vertical-align: top;\n",
       "    }\n",
       "\n",
       "    .dataframe thead th {\n",
       "        text-align: right;\n",
       "    }\n",
       "</style>\n",
       "<table border=\"1\" class=\"dataframe\">\n",
       "  <thead>\n",
       "    <tr style=\"text-align: right;\">\n",
       "      <th></th>\n",
       "      <th>title</th>\n",
       "      <th>score</th>\n",
       "      <th>id</th>\n",
       "      <th>subreddit</th>\n",
       "      <th>url</th>\n",
       "      <th>num_comments</th>\n",
       "      <th>body</th>\n",
       "      <th>created</th>\n",
       "    </tr>\n",
       "  </thead>\n",
       "  <tbody>\n",
       "    <tr>\n",
       "      <td>0</td>\n",
       "      <td>Just dreamt of the end of the world</td>\n",
       "      <td>135</td>\n",
       "      <td>dhnta6</td>\n",
       "      <td>Dreams</td>\n",
       "      <td>https://www.reddit.com/r/Dreams/comments/dhnta...</td>\n",
       "      <td>18</td>\n",
       "      <td>I just woke from an insanely realistic dream a...</td>\n",
       "      <td>1.571072e+09</td>\n",
       "    </tr>\n",
       "    <tr>\n",
       "      <td>1</td>\n",
       "      <td>I was accused of blugeoning Beyonce to death i...</td>\n",
       "      <td>9</td>\n",
       "      <td>dhqqyx</td>\n",
       "      <td>Dreams</td>\n",
       "      <td>https://www.reddit.com/r/Dreams/comments/dhqqy...</td>\n",
       "      <td>1</td>\n",
       "      <td>I was in my local Kroger getting groceries, an...</td>\n",
       "      <td>1.571089e+09</td>\n",
       "    </tr>\n",
       "    <tr>\n",
       "      <td>2</td>\n",
       "      <td>Morgan Freeman food advice</td>\n",
       "      <td>8</td>\n",
       "      <td>dhr09c</td>\n",
       "      <td>Dreams</td>\n",
       "      <td>https://www.reddit.com/r/Dreams/comments/dhr09...</td>\n",
       "      <td>0</td>\n",
       "      <td>Part of my dream this morning had Morgan Freem...</td>\n",
       "      <td>1.571091e+09</td>\n",
       "    </tr>\n",
       "    <tr>\n",
       "      <td>3</td>\n",
       "      <td>Violating the nightmare</td>\n",
       "      <td>3</td>\n",
       "      <td>dhucwz</td>\n",
       "      <td>Dreams</td>\n",
       "      <td>https://www.reddit.com/r/Dreams/comments/dhucw...</td>\n",
       "      <td>0</td>\n",
       "      <td>Well uh.. where to begin...\\n\\nI found this su...</td>\n",
       "      <td>1.571105e+09</td>\n",
       "    </tr>\n",
       "    <tr>\n",
       "      <td>4</td>\n",
       "      <td>Dreamt was holding my rapist and crying and ap...</td>\n",
       "      <td>2</td>\n",
       "      <td>dhuokx</td>\n",
       "      <td>Dreams</td>\n",
       "      <td>https://www.reddit.com/r/Dreams/comments/dhuok...</td>\n",
       "      <td>0</td>\n",
       "      <td>I don't understand.. I was finally getting bet...</td>\n",
       "      <td>1.571106e+09</td>\n",
       "    </tr>\n",
       "    <tr>\n",
       "      <td>...</td>\n",
       "      <td>...</td>\n",
       "      <td>...</td>\n",
       "      <td>...</td>\n",
       "      <td>...</td>\n",
       "      <td>...</td>\n",
       "      <td>...</td>\n",
       "      <td>...</td>\n",
       "      <td>...</td>\n",
       "    </tr>\n",
       "    <tr>\n",
       "      <td>992</td>\n",
       "      <td>🏞</td>\n",
       "      <td>1</td>\n",
       "      <td>dbxj1t</td>\n",
       "      <td>Dreams</td>\n",
       "      <td>https://i.redd.it/v3xatojx1zp31.jpg</td>\n",
       "      <td>0</td>\n",
       "      <td></td>\n",
       "      <td>1.569984e+09</td>\n",
       "    </tr>\n",
       "    <tr>\n",
       "      <td>993</td>\n",
       "      <td>Saw this fella a while ago when I had a sleep ...</td>\n",
       "      <td>125</td>\n",
       "      <td>dbe0bc</td>\n",
       "      <td>Dreams</td>\n",
       "      <td>https://i.redd.it/u7untosobrp31.jpg</td>\n",
       "      <td>11</td>\n",
       "      <td></td>\n",
       "      <td>1.569889e+09</td>\n",
       "    </tr>\n",
       "    <tr>\n",
       "      <td>994</td>\n",
       "      <td>Dreams about a Lost Friendship.</td>\n",
       "      <td>1</td>\n",
       "      <td>dbx8xo</td>\n",
       "      <td>Dreams</td>\n",
       "      <td>https://www.reddit.com/r/Dreams/comments/dbx8x...</td>\n",
       "      <td>0</td>\n",
       "      <td>A little over a year ago, my relationship with...</td>\n",
       "      <td>1.569982e+09</td>\n",
       "    </tr>\n",
       "    <tr>\n",
       "      <td>995</td>\n",
       "      <td>Tooth (just one) falling out, scared when woke up</td>\n",
       "      <td>1</td>\n",
       "      <td>dbx6g4</td>\n",
       "      <td>Dreams</td>\n",
       "      <td>https://www.reddit.com/r/Dreams/comments/dbx6g...</td>\n",
       "      <td>4</td>\n",
       "      <td>Hi everyone... This dream I had last night and...</td>\n",
       "      <td>1.569982e+09</td>\n",
       "    </tr>\n",
       "    <tr>\n",
       "      <td>996</td>\n",
       "      <td>Four ways, murder, and demons oh my!</td>\n",
       "      <td>3</td>\n",
       "      <td>dbs1q3</td>\n",
       "      <td>Dreams</td>\n",
       "      <td>https://www.reddit.com/r/Dreams/comments/dbs1q...</td>\n",
       "      <td>0</td>\n",
       "      <td>So there was this girl named Angela and this g...</td>\n",
       "      <td>1.569958e+09</td>\n",
       "    </tr>\n",
       "  </tbody>\n",
       "</table>\n",
       "<p>997 rows × 8 columns</p>\n",
       "</div>"
      ],
      "text/plain": [
       "                                                 title  score      id  \\\n",
       "0                  Just dreamt of the end of the world    135  dhnta6   \n",
       "1    I was accused of blugeoning Beyonce to death i...      9  dhqqyx   \n",
       "2                           Morgan Freeman food advice      8  dhr09c   \n",
       "3                              Violating the nightmare      3  dhucwz   \n",
       "4    Dreamt was holding my rapist and crying and ap...      2  dhuokx   \n",
       "..                                                 ...    ...     ...   \n",
       "992                                                  🏞      1  dbxj1t   \n",
       "993  Saw this fella a while ago when I had a sleep ...    125  dbe0bc   \n",
       "994                    Dreams about a Lost Friendship.      1  dbx8xo   \n",
       "995  Tooth (just one) falling out, scared when woke up      1  dbx6g4   \n",
       "996               Four ways, murder, and demons oh my!      3  dbs1q3   \n",
       "\n",
       "    subreddit                                                url  \\\n",
       "0      Dreams  https://www.reddit.com/r/Dreams/comments/dhnta...   \n",
       "1      Dreams  https://www.reddit.com/r/Dreams/comments/dhqqy...   \n",
       "2      Dreams  https://www.reddit.com/r/Dreams/comments/dhr09...   \n",
       "3      Dreams  https://www.reddit.com/r/Dreams/comments/dhucw...   \n",
       "4      Dreams  https://www.reddit.com/r/Dreams/comments/dhuok...   \n",
       "..        ...                                                ...   \n",
       "992    Dreams                https://i.redd.it/v3xatojx1zp31.jpg   \n",
       "993    Dreams                https://i.redd.it/u7untosobrp31.jpg   \n",
       "994    Dreams  https://www.reddit.com/r/Dreams/comments/dbx8x...   \n",
       "995    Dreams  https://www.reddit.com/r/Dreams/comments/dbx6g...   \n",
       "996    Dreams  https://www.reddit.com/r/Dreams/comments/dbs1q...   \n",
       "\n",
       "     num_comments                                               body  \\\n",
       "0              18  I just woke from an insanely realistic dream a...   \n",
       "1               1  I was in my local Kroger getting groceries, an...   \n",
       "2               0  Part of my dream this morning had Morgan Freem...   \n",
       "3               0  Well uh.. where to begin...\\n\\nI found this su...   \n",
       "4               0  I don't understand.. I was finally getting bet...   \n",
       "..            ...                                                ...   \n",
       "992             0                                                      \n",
       "993            11                                                      \n",
       "994             0  A little over a year ago, my relationship with...   \n",
       "995             4  Hi everyone... This dream I had last night and...   \n",
       "996             0  So there was this girl named Angela and this g...   \n",
       "\n",
       "          created  \n",
       "0    1.571072e+09  \n",
       "1    1.571089e+09  \n",
       "2    1.571091e+09  \n",
       "3    1.571105e+09  \n",
       "4    1.571106e+09  \n",
       "..            ...  \n",
       "992  1.569984e+09  \n",
       "993  1.569889e+09  \n",
       "994  1.569982e+09  \n",
       "995  1.569982e+09  \n",
       "996  1.569958e+09  \n",
       "\n",
       "[997 rows x 8 columns]"
      ]
     },
     "execution_count": 7,
     "metadata": {},
     "output_type": "execute_result"
    }
   ],
   "source": [
    "# Save scraped data of dreams subreddit to new dataframe\n",
    "df_dreams = pd.DataFrame(posts)\n",
    "# Print dataframe to confirm it was successfully created\n",
    "df_dreams"
   ]
  },
  {
   "cell_type": "markdown",
   "metadata": {},
   "source": [
    "### Step 4: Export data to csv\n",
    "Save scraped data to the processed directory to be read and cleaned for further analysis in Notebook 3."
   ]
  },
  {
   "cell_type": "code",
   "execution_count": 8,
   "metadata": {},
   "outputs": [],
   "source": [
    "# Export dreams dataframe file\n",
    "df_dreams.to_csv(r'./subreddit_Dreams.csv')"
   ]
  }
 ],
 "metadata": {
  "kernelspec": {
   "display_name": "Python 3",
   "language": "python",
   "name": "python3"
  },
  "language_info": {
   "codemirror_mode": {
    "name": "ipython",
    "version": 3
   },
   "file_extension": ".py",
   "mimetype": "text/x-python",
   "name": "python",
   "nbconvert_exporter": "python",
   "pygments_lexer": "ipython3",
   "version": "3.7.4"
  },
  "toc": {
   "base_numbering": 1,
   "nav_menu": {},
   "number_sections": false,
   "sideBar": true,
   "skip_h1_title": false,
   "title_cell": "Table of Contents",
   "title_sidebar": "Contents",
   "toc_cell": true,
   "toc_position": {
    "height": "calc(100% - 180px)",
    "left": "10px",
    "top": "150px",
    "width": "322.594px"
   },
   "toc_section_display": true,
   "toc_window_display": true
  },
  "varInspector": {
   "cols": {
    "lenName": 16,
    "lenType": 16,
    "lenVar": 40
   },
   "kernels_config": {
    "python": {
     "delete_cmd_postfix": "",
     "delete_cmd_prefix": "del ",
     "library": "var_list.py",
     "varRefreshCmd": "print(var_dic_list())"
    },
    "r": {
     "delete_cmd_postfix": ") ",
     "delete_cmd_prefix": "rm(",
     "library": "var_list.r",
     "varRefreshCmd": "cat(var_dic_list()) "
    }
   },
   "types_to_exclude": [
    "module",
    "function",
    "builtin_function_or_method",
    "instance",
    "_Feature"
   ],
   "window_display": false
  }
 },
 "nbformat": 4,
 "nbformat_minor": 2
}
