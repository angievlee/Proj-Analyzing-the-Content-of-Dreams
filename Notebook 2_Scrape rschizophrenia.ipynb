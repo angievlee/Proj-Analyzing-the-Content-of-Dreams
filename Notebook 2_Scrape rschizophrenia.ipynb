{
 "cells": [
  {
   "cell_type": "markdown",
   "metadata": {},
   "source": [
    "## Project 3: Webscraping subreddit r/schizophrenia"
   ]
  },
  {
   "cell_type": "markdown",
   "metadata": {
    "toc": true
   },
   "source": [
    "<h1>Table of Contents<span class=\"tocSkip\"></span></h1>\n",
    "<div class=\"toc\"><ul class=\"toc-item\"><li><span><a href=\"#Project-3:-Webscraping-subreddit-r/schizophrenia\" data-toc-modified-id=\"Project-3:-Webscraping-subreddit-r/schizophrenia-1\">Project 3: Webscraping subreddit r/schizophrenia</a></span><ul class=\"toc-item\"><li><ul class=\"toc-item\"><li><span><a href=\"#Import-Libraries\" data-toc-modified-id=\"Import-Libraries-1.0.1\">Import Libraries</a></span></li></ul></li><li><span><a href=\"#Step-1:-Create-Reddit-instance\" data-toc-modified-id=\"Step-1:-Create-Reddit-instance-1.1\">Step 1: Create Reddit instance</a></span></li><li><span><a href=\"#Step-2:-Scrape-the-URL\" data-toc-modified-id=\"Step-2:-Scrape-the-URL-1.2\">Step 2: Scrape the URL</a></span></li><li><span><a href=\"#Step-3:-Create-a-pandas-DataFrame-from-list-of-subreddit-posts¶\" data-toc-modified-id=\"Step-3:-Create-a-pandas-DataFrame-from-list-of-subreddit-posts¶-1.3\">Step 3: Create a pandas DataFrame from list of subreddit posts¶</a></span></li><li><span><a href=\"#Step-4:-Export-data-to-csv\" data-toc-modified-id=\"Step-4:-Export-data-to-csv-1.4\">Step 4: Export data to csv</a></span></li></ul></li></ul></div>"
   ]
  },
  {
   "cell_type": "markdown",
   "metadata": {},
   "source": [
    " Intro to Notebook 2\n",
    " \n",
    "This notebook (Notebook 2) will display a step-by-step process for scraping subreddit r/schizophrenia. The scrape will be for 1000 posts that contain text which will be analyzed and later applied to classification models in the notebooks to follow."
   ]
  },
  {
   "cell_type": "markdown",
   "metadata": {},
   "source": [
    "#### Import Libraries"
   ]
  },
  {
   "cell_type": "code",
   "execution_count": 2,
   "metadata": {},
   "outputs": [],
   "source": [
    "# Allows HTTP/1.1 (URL) requests to so users can add content from sites\n",
    "import requests\n",
    "# For data manipulation\n",
    "import pandas as pd\n",
    "# Ability to save file to be exported and used elsewhere (i.e. other than this notebook)\n",
    "import csv\n",
    "# Easy to use for scraping Reddit data\n",
    "import praw"
   ]
  },
  {
   "cell_type": "markdown",
   "metadata": {},
   "source": [
    "### Step 1: Create Reddit instance\n",
    "\n",
    "Before any data can be scraped, users need to be authenticated. In order to do this, a Reddit instance must be created.\n",
    "\n",
    "1. Create Reddit app here: https://www.reddit.com/prefs/apps\n",
    "2. After pressing \"create app\", the authentification information needed to create the praw.Reddit instance will be provided."
   ]
  },
  {
   "cell_type": "code",
   "execution_count": 3,
   "metadata": {},
   "outputs": [],
   "source": [
    "# Input values client_id, client_secret, user_agent which can be found after \"create app\" action\n",
    "reddit = praw.Reddit(client_id='inQ3U2b00SevdQ', client_secret='mWYaNvAOx-0ilXOfMV82nHZ7R3U',user_agent='reddit scrape')"
   ]
  },
  {
   "cell_type": "markdown",
   "metadata": {},
   "source": [
    "### Step 2: Scrape the URL"
   ]
  },
  {
   "cell_type": "code",
   "execution_count": 5,
   "metadata": {},
   "outputs": [
    {
     "name": "stdout",
     "output_type": "stream",
     "text": [
      "                                                 title  score      id  \\\n",
      "0        Frequently Asked Questions (Read This Sticky)     41  53xfmu   \n",
      "1                                        The latest :)     68  dhouqp   \n",
      "2                                   Hurting loved ones     10  dhsf49   \n",
      "3    Today I saw a lot of strange sparkly dust fall...     42  dhmke5   \n",
      "4                                 Im getting so fat...      5  dhtybm   \n",
      "..                                                 ...    ...     ...   \n",
      "994                   Side effects from antipchycotics      5  d4q7ru   \n",
      "995   Any studies of ppl who quit meds after long use?      3  d4s9eq   \n",
      "996    \"Spider-Man: Far from Home\" is mega triggering.     24  d4jaj6   \n",
      "997                                  Supporting Fiancé      4  d4qhxu   \n",
      "998              There's another reality and I know it     15  d4js18   \n",
      "\n",
      "         subreddit                                                url  \\\n",
      "0    schizophrenia  https://www.reddit.com/r/schizophrenia/comment...   \n",
      "1    schizophrenia                https://i.redd.it/dhg7lm4wkhs31.jpg   \n",
      "2    schizophrenia  https://www.reddit.com/r/schizophrenia/comment...   \n",
      "3    schizophrenia  https://www.reddit.com/r/schizophrenia/comment...   \n",
      "4    schizophrenia  https://www.reddit.com/r/schizophrenia/comment...   \n",
      "..             ...                                                ...   \n",
      "994  schizophrenia  https://www.reddit.com/r/schizophrenia/comment...   \n",
      "995  schizophrenia  https://www.reddit.com/r/schizophrenia/comment...   \n",
      "996  schizophrenia  https://www.reddit.com/r/schizophrenia/comment...   \n",
      "997  schizophrenia  https://www.reddit.com/r/schizophrenia/comment...   \n",
      "998  schizophrenia  https://www.reddit.com/r/schizophrenia/comment...   \n",
      "\n",
      "     num_comments                                               body  \\\n",
      "0               7  Welcome to [/r/schizophrenia](https://www.redd...   \n",
      "1              10                                                      \n",
      "2              10  korba went insane for about a month. big surpr...   \n",
      "3              10                                                      \n",
      "4              11  I'm on risperdone. Is there a schizophrenia me...   \n",
      "..            ...                                                ...   \n",
      "994             4  About two weeks ago i was injected a high dose...   \n",
      "995             4  Big brother stopped taking his meds after bein...   \n",
      "996             4  I just got about halfway through \"Spider-Man: ...   \n",
      "997             1  How do I support my fiancé who has paranoid de...   \n",
      "998             9  I know there is another reality than this one....   \n",
      "\n",
      "          created  \n",
      "0    1.474549e+09  \n",
      "1    1.571079e+09  \n",
      "2    1.571097e+09  \n",
      "3    1.571063e+09  \n",
      "4    1.571103e+09  \n",
      "..            ...  \n",
      "994  1.568609e+09  \n",
      "995  1.568618e+09  \n",
      "996  1.568576e+09  \n",
      "997  1.568610e+09  \n",
      "998  1.568579e+09  \n",
      "\n",
      "[999 rows x 8 columns]\n"
     ]
    }
   ],
   "source": [
    "# Start with an empty list\n",
    "posts = [] \n",
    "# Scrape subreddit r/schizophrenia\n",
    "scz_subreddit = reddit.subreddit('schizophrenia') \n",
    "\n",
    "# Grab 'hot' 1000 posts from subreddit r/schizophrenia\n",
    "for post in scz_subreddit.hot(limit=1000):\n",
    "# Create columns    \n",
    "    posts.append([post.title, post.score, post.id, post.subreddit, post.url, post.num_comments, post.selftext, post.created])\n",
    "# Input the names that will scraped and eventually become columns in dataframe\n",
    "posts = pd.DataFrame(posts,columns=['title', 'score', 'id', 'subreddit', 'url', 'num_comments', 'body', 'created'])\n",
    "# Print 'posts' to confirm data successfully scraped\n",
    "print(posts)"
   ]
  },
  {
   "cell_type": "markdown",
   "metadata": {},
   "source": [
    "Observations: 999 rows is close to 1000 so 999 number in what is needed for analysis. "
   ]
  },
  {
   "cell_type": "markdown",
   "metadata": {},
   "source": [
    "### Step 3: Create a pandas DataFrame from list of subreddit posts¶"
   ]
  },
  {
   "cell_type": "code",
   "execution_count": 6,
   "metadata": {},
   "outputs": [
    {
     "data": {
      "text/html": [
       "<div>\n",
       "<style scoped>\n",
       "    .dataframe tbody tr th:only-of-type {\n",
       "        vertical-align: middle;\n",
       "    }\n",
       "\n",
       "    .dataframe tbody tr th {\n",
       "        vertical-align: top;\n",
       "    }\n",
       "\n",
       "    .dataframe thead th {\n",
       "        text-align: right;\n",
       "    }\n",
       "</style>\n",
       "<table border=\"1\" class=\"dataframe\">\n",
       "  <thead>\n",
       "    <tr style=\"text-align: right;\">\n",
       "      <th></th>\n",
       "      <th>title</th>\n",
       "      <th>score</th>\n",
       "      <th>id</th>\n",
       "      <th>subreddit</th>\n",
       "      <th>url</th>\n",
       "      <th>num_comments</th>\n",
       "      <th>body</th>\n",
       "      <th>created</th>\n",
       "    </tr>\n",
       "  </thead>\n",
       "  <tbody>\n",
       "    <tr>\n",
       "      <td>0</td>\n",
       "      <td>Frequently Asked Questions (Read This Sticky)</td>\n",
       "      <td>41</td>\n",
       "      <td>53xfmu</td>\n",
       "      <td>schizophrenia</td>\n",
       "      <td>https://www.reddit.com/r/schizophrenia/comment...</td>\n",
       "      <td>7</td>\n",
       "      <td>Welcome to [/r/schizophrenia](https://www.redd...</td>\n",
       "      <td>1.474549e+09</td>\n",
       "    </tr>\n",
       "    <tr>\n",
       "      <td>1</td>\n",
       "      <td>The latest :)</td>\n",
       "      <td>68</td>\n",
       "      <td>dhouqp</td>\n",
       "      <td>schizophrenia</td>\n",
       "      <td>https://i.redd.it/dhg7lm4wkhs31.jpg</td>\n",
       "      <td>10</td>\n",
       "      <td></td>\n",
       "      <td>1.571079e+09</td>\n",
       "    </tr>\n",
       "    <tr>\n",
       "      <td>2</td>\n",
       "      <td>Hurting loved ones</td>\n",
       "      <td>10</td>\n",
       "      <td>dhsf49</td>\n",
       "      <td>schizophrenia</td>\n",
       "      <td>https://www.reddit.com/r/schizophrenia/comment...</td>\n",
       "      <td>10</td>\n",
       "      <td>korba went insane for about a month. big surpr...</td>\n",
       "      <td>1.571097e+09</td>\n",
       "    </tr>\n",
       "    <tr>\n",
       "      <td>3</td>\n",
       "      <td>Today I saw a lot of strange sparkly dust fall...</td>\n",
       "      <td>42</td>\n",
       "      <td>dhmke5</td>\n",
       "      <td>schizophrenia</td>\n",
       "      <td>https://www.reddit.com/r/schizophrenia/comment...</td>\n",
       "      <td>10</td>\n",
       "      <td></td>\n",
       "      <td>1.571063e+09</td>\n",
       "    </tr>\n",
       "    <tr>\n",
       "      <td>4</td>\n",
       "      <td>Im getting so fat...</td>\n",
       "      <td>5</td>\n",
       "      <td>dhtybm</td>\n",
       "      <td>schizophrenia</td>\n",
       "      <td>https://www.reddit.com/r/schizophrenia/comment...</td>\n",
       "      <td>11</td>\n",
       "      <td>I'm on risperdone. Is there a schizophrenia me...</td>\n",
       "      <td>1.571103e+09</td>\n",
       "    </tr>\n",
       "    <tr>\n",
       "      <td>...</td>\n",
       "      <td>...</td>\n",
       "      <td>...</td>\n",
       "      <td>...</td>\n",
       "      <td>...</td>\n",
       "      <td>...</td>\n",
       "      <td>...</td>\n",
       "      <td>...</td>\n",
       "      <td>...</td>\n",
       "    </tr>\n",
       "    <tr>\n",
       "      <td>994</td>\n",
       "      <td>Side effects from antipchycotics</td>\n",
       "      <td>5</td>\n",
       "      <td>d4q7ru</td>\n",
       "      <td>schizophrenia</td>\n",
       "      <td>https://www.reddit.com/r/schizophrenia/comment...</td>\n",
       "      <td>4</td>\n",
       "      <td>About two weeks ago i was injected a high dose...</td>\n",
       "      <td>1.568609e+09</td>\n",
       "    </tr>\n",
       "    <tr>\n",
       "      <td>995</td>\n",
       "      <td>Any studies of ppl who quit meds after long use?</td>\n",
       "      <td>3</td>\n",
       "      <td>d4s9eq</td>\n",
       "      <td>schizophrenia</td>\n",
       "      <td>https://www.reddit.com/r/schizophrenia/comment...</td>\n",
       "      <td>4</td>\n",
       "      <td>Big brother stopped taking his meds after bein...</td>\n",
       "      <td>1.568618e+09</td>\n",
       "    </tr>\n",
       "    <tr>\n",
       "      <td>996</td>\n",
       "      <td>\"Spider-Man: Far from Home\" is mega triggering.</td>\n",
       "      <td>24</td>\n",
       "      <td>d4jaj6</td>\n",
       "      <td>schizophrenia</td>\n",
       "      <td>https://www.reddit.com/r/schizophrenia/comment...</td>\n",
       "      <td>4</td>\n",
       "      <td>I just got about halfway through \"Spider-Man: ...</td>\n",
       "      <td>1.568576e+09</td>\n",
       "    </tr>\n",
       "    <tr>\n",
       "      <td>997</td>\n",
       "      <td>Supporting Fiancé</td>\n",
       "      <td>4</td>\n",
       "      <td>d4qhxu</td>\n",
       "      <td>schizophrenia</td>\n",
       "      <td>https://www.reddit.com/r/schizophrenia/comment...</td>\n",
       "      <td>1</td>\n",
       "      <td>How do I support my fiancé who has paranoid de...</td>\n",
       "      <td>1.568610e+09</td>\n",
       "    </tr>\n",
       "    <tr>\n",
       "      <td>998</td>\n",
       "      <td>There's another reality and I know it</td>\n",
       "      <td>15</td>\n",
       "      <td>d4js18</td>\n",
       "      <td>schizophrenia</td>\n",
       "      <td>https://www.reddit.com/r/schizophrenia/comment...</td>\n",
       "      <td>9</td>\n",
       "      <td>I know there is another reality than this one....</td>\n",
       "      <td>1.568579e+09</td>\n",
       "    </tr>\n",
       "  </tbody>\n",
       "</table>\n",
       "<p>999 rows × 8 columns</p>\n",
       "</div>"
      ],
      "text/plain": [
       "                                                 title  score      id  \\\n",
       "0        Frequently Asked Questions (Read This Sticky)     41  53xfmu   \n",
       "1                                        The latest :)     68  dhouqp   \n",
       "2                                   Hurting loved ones     10  dhsf49   \n",
       "3    Today I saw a lot of strange sparkly dust fall...     42  dhmke5   \n",
       "4                                 Im getting so fat...      5  dhtybm   \n",
       "..                                                 ...    ...     ...   \n",
       "994                   Side effects from antipchycotics      5  d4q7ru   \n",
       "995   Any studies of ppl who quit meds after long use?      3  d4s9eq   \n",
       "996    \"Spider-Man: Far from Home\" is mega triggering.     24  d4jaj6   \n",
       "997                                  Supporting Fiancé      4  d4qhxu   \n",
       "998              There's another reality and I know it     15  d4js18   \n",
       "\n",
       "         subreddit                                                url  \\\n",
       "0    schizophrenia  https://www.reddit.com/r/schizophrenia/comment...   \n",
       "1    schizophrenia                https://i.redd.it/dhg7lm4wkhs31.jpg   \n",
       "2    schizophrenia  https://www.reddit.com/r/schizophrenia/comment...   \n",
       "3    schizophrenia  https://www.reddit.com/r/schizophrenia/comment...   \n",
       "4    schizophrenia  https://www.reddit.com/r/schizophrenia/comment...   \n",
       "..             ...                                                ...   \n",
       "994  schizophrenia  https://www.reddit.com/r/schizophrenia/comment...   \n",
       "995  schizophrenia  https://www.reddit.com/r/schizophrenia/comment...   \n",
       "996  schizophrenia  https://www.reddit.com/r/schizophrenia/comment...   \n",
       "997  schizophrenia  https://www.reddit.com/r/schizophrenia/comment...   \n",
       "998  schizophrenia  https://www.reddit.com/r/schizophrenia/comment...   \n",
       "\n",
       "     num_comments                                               body  \\\n",
       "0               7  Welcome to [/r/schizophrenia](https://www.redd...   \n",
       "1              10                                                      \n",
       "2              10  korba went insane for about a month. big surpr...   \n",
       "3              10                                                      \n",
       "4              11  I'm on risperdone. Is there a schizophrenia me...   \n",
       "..            ...                                                ...   \n",
       "994             4  About two weeks ago i was injected a high dose...   \n",
       "995             4  Big brother stopped taking his meds after bein...   \n",
       "996             4  I just got about halfway through \"Spider-Man: ...   \n",
       "997             1  How do I support my fiancé who has paranoid de...   \n",
       "998             9  I know there is another reality than this one....   \n",
       "\n",
       "          created  \n",
       "0    1.474549e+09  \n",
       "1    1.571079e+09  \n",
       "2    1.571097e+09  \n",
       "3    1.571063e+09  \n",
       "4    1.571103e+09  \n",
       "..            ...  \n",
       "994  1.568609e+09  \n",
       "995  1.568618e+09  \n",
       "996  1.568576e+09  \n",
       "997  1.568610e+09  \n",
       "998  1.568579e+09  \n",
       "\n",
       "[999 rows x 8 columns]"
      ]
     },
     "execution_count": 6,
     "metadata": {},
     "output_type": "execute_result"
    }
   ],
   "source": [
    "# Save scraped data of subreddit schizophrenia(also known as 'scz') to new dataframe\n",
    "df_scz = pd.DataFrame(posts)\n",
    "# Print dataframe to confirm it was successfully created\n",
    "df_scz"
   ]
  },
  {
   "cell_type": "markdown",
   "metadata": {},
   "source": [
    "### Step 4: Export data to csv\n",
    "Save scraped data to the processed directory to be read and cleaned for further analysis in Notebook 3."
   ]
  },
  {
   "cell_type": "code",
   "execution_count": 7,
   "metadata": {},
   "outputs": [],
   "source": [
    "# Export schizophrenia dataframe file\n",
    "df_scz.to_csv(r'./subreddit_scz.csv')"
   ]
  }
 ],
 "metadata": {
  "kernelspec": {
   "display_name": "Python 3",
   "language": "python",
   "name": "python3"
  },
  "language_info": {
   "codemirror_mode": {
    "name": "ipython",
    "version": 3
   },
   "file_extension": ".py",
   "mimetype": "text/x-python",
   "name": "python",
   "nbconvert_exporter": "python",
   "pygments_lexer": "ipython3",
   "version": "3.7.4"
  },
  "toc": {
   "base_numbering": 1,
   "nav_menu": {},
   "number_sections": false,
   "sideBar": true,
   "skip_h1_title": false,
   "title_cell": "Table of Contents",
   "title_sidebar": "Contents",
   "toc_cell": true,
   "toc_position": {
    "height": "calc(100% - 180px)",
    "left": "10px",
    "top": "150px",
    "width": "322.594px"
   },
   "toc_section_display": true,
   "toc_window_display": true
  },
  "varInspector": {
   "cols": {
    "lenName": 16,
    "lenType": 16,
    "lenVar": 40
   },
   "kernels_config": {
    "python": {
     "delete_cmd_postfix": "",
     "delete_cmd_prefix": "del ",
     "library": "var_list.py",
     "varRefreshCmd": "print(var_dic_list())"
    },
    "r": {
     "delete_cmd_postfix": ") ",
     "delete_cmd_prefix": "rm(",
     "library": "var_list.r",
     "varRefreshCmd": "cat(var_dic_list()) "
    }
   },
   "types_to_exclude": [
    "module",
    "function",
    "builtin_function_or_method",
    "instance",
    "_Feature"
   ],
   "window_display": false
  }
 },
 "nbformat": 4,
 "nbformat_minor": 2
}
